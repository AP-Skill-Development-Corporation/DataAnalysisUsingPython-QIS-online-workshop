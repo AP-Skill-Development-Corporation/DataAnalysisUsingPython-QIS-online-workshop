{
 "cells": [
  {
   "cell_type": "markdown",
   "metadata": {},
   "source": [
    "1. convert cell from markdown to code cell --> Esc + y\n",
    "2. convert cell from code to markdown cell --> Esc + m\n",
    "3. To run the cell --> Shift + Enter or Ctrl + Enter\n",
    "\n",
    "# Heading1\n",
    "## Heading2\n",
    "### Heading3\n",
    "#### Heading4\n",
    "##### Heading5\n",
    "###### Heading6\n",
    "\n",
    "\n",
    "\n",
    "**Bold**\n",
    "\n",
    "\n",
    "*Italic*\n",
    "\n",
    "\n",
    "***Bold Italic***"
   ]
  },
  {
   "cell_type": "markdown",
   "metadata": {},
   "source": [
    "#### Unordered list\n",
    "- Colleges\n",
    "    - QIS\n",
    "    - KITS\n",
    "    - RVR\n",
    "    \n",
    "    \n",
    "#### Ordered List\n",
    "1. Colleges\n",
    "2. Degree colleges\n",
    "    1. QIS\n",
    "    2. KITS\n",
    "    3. RVR"
   ]
  },
  {
   "cell_type": "code",
   "execution_count": null,
   "metadata": {},
   "outputs": [],
   "source": []
  }
 ],
 "metadata": {
  "kernelspec": {
   "display_name": "Python 3",
   "language": "python",
   "name": "python3"
  },
  "language_info": {
   "codemirror_mode": {
    "name": "ipython",
    "version": 3
   },
   "file_extension": ".py",
   "mimetype": "text/x-python",
   "name": "python",
   "nbconvert_exporter": "python",
   "pygments_lexer": "ipython3",
   "version": "3.7.3"
  }
 },
 "nbformat": 4,
 "nbformat_minor": 2
}
